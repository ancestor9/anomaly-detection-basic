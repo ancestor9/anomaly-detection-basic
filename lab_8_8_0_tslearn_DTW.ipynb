{
 "cells": [
  {
   "cell_type": "markdown",
   "metadata": {},
   "source": [
    "#  <font color='dark gary'> K-Means with dynamic time warping Anomaly detection method\n",
    "## Tslearn, A Machine Learning Toolkit for Time Series Data\n",
    "- https://towardsdatascience.com/how-to-apply-k-means-clustering-to-time-series-data-28d04a8f7da3\n",
    "- https://www.jmlr.org/papers/volume21/20-091/20-091.pdf"
   ]
  },
  {
   "cell_type": "code",
   "execution_count": 1,
   "metadata": {},
   "outputs": [
    {
     "data": {
      "text/html": [
       "<style>.container { width:100% !important; }</style>"
      ],
      "text/plain": [
       "<IPython.core.display.HTML object>"
      ]
     },
     "metadata": {},
     "output_type": "display_data"
    }
   ],
   "source": [
    "from IPython.core.display import display, HTML\n",
    "display(HTML(\"<style>.container { width:100% !important; }</style>\"))\n",
    "from IPython.core.interactiveshell import InteractiveShell\n",
    "InteractiveShell.ast_node_interactivity = 'all'\n",
    "import warnings\n",
    "warnings.filterwarnings('ignore')\n",
    "import pandas as pd\n",
    "import numpy as np\n",
    "import matplotlib.pyplot as plt\n",
    "import seaborn as sns; sns.set()\n",
    "get_ipython().run_line_magic('matplotlib', 'inline')"
   ]
  },
  {
   "cell_type": "markdown",
   "metadata": {},
   "source": [
    "## Installation"
   ]
  },
  {
   "cell_type": "markdown",
   "metadata": {},
   "source": [
    "##conda install -c conda-forge tslearn"
   ]
  },
  {
   "cell_type": "markdown",
   "metadata": {},
   "source": [
    "## tslearn (code on github)\n",
    "- https://tslearn.readthedocs.io/en/stable/index.html#\n",
    "#### tslearn은 3 tensor 데이터를 기본\n",
    "tslearn expects a time series dataset to be formatted as a 3D numpy array. The three dimensions correspond to the number of time series, the number of measurements per time series and the number of dimensions respectively (n_ts, max_sz, d). In order to get the data in the right format, different solutions exist:"
   ]
  },
  {
   "cell_type": "code",
   "execution_count": 2,
   "metadata": {},
   "outputs": [
    {
     "data": {
      "text/plain": [
       "(2, 3)"
      ]
     },
     "execution_count": 2,
     "metadata": {},
     "output_type": "execute_result"
    },
    {
     "data": {
      "text/plain": [
       "array([[0, 1, 2],\n",
       "       [3, 4, 5]])"
      ]
     },
     "execution_count": 2,
     "metadata": {},
     "output_type": "execute_result"
    }
   ],
   "source": [
    "a = np.array([[0, 1, 2], [3, 4, 5]])\n",
    "a.shape\n",
    "a"
   ]
  },
  {
   "cell_type": "code",
   "execution_count": 3,
   "metadata": {},
   "outputs": [
    {
     "data": {
      "text/plain": [
       "(3,)"
      ]
     },
     "execution_count": 3,
     "metadata": {},
     "output_type": "execute_result"
    },
    {
     "data": {
      "text/plain": [
       "array([list([1, 2, 3, 4]), list([1, 2, 3]), list([2, 5, 6, 7, 8, 9])],\n",
       "      dtype=object)"
      ]
     },
     "execution_count": 3,
     "metadata": {},
     "output_type": "execute_result"
    }
   ],
   "source": [
    "sample = np.array([[1, 2, 3, 4], [1, 2, 3], [2, 5, 6, 7, 8, 9]])\n",
    "sample.shape\n",
    "sample"
   ]
  },
  {
   "cell_type": "code",
   "execution_count": 4,
   "metadata": {},
   "outputs": [
    {
     "data": {
      "text/plain": [
       "(3, 6, 1)"
      ]
     },
     "execution_count": 4,
     "metadata": {},
     "output_type": "execute_result"
    },
    {
     "data": {
      "text/html": [
       "<div>\n",
       "<style scoped>\n",
       "    .dataframe tbody tr th:only-of-type {\n",
       "        vertical-align: middle;\n",
       "    }\n",
       "\n",
       "    .dataframe tbody tr th {\n",
       "        vertical-align: top;\n",
       "    }\n",
       "\n",
       "    .dataframe thead th {\n",
       "        text-align: right;\n",
       "    }\n",
       "</style>\n",
       "<table border=\"1\" class=\"dataframe\">\n",
       "  <thead>\n",
       "    <tr style=\"text-align: right;\">\n",
       "      <th></th>\n",
       "      <th>0</th>\n",
       "      <th>1</th>\n",
       "      <th>2</th>\n",
       "      <th>3</th>\n",
       "      <th>4</th>\n",
       "      <th>5</th>\n",
       "    </tr>\n",
       "  </thead>\n",
       "  <tbody>\n",
       "    <tr>\n",
       "      <th>0</th>\n",
       "      <td>1.0</td>\n",
       "      <td>2.0</td>\n",
       "      <td>3.0</td>\n",
       "      <td>4.0</td>\n",
       "      <td>NaN</td>\n",
       "      <td>NaN</td>\n",
       "    </tr>\n",
       "    <tr>\n",
       "      <th>1</th>\n",
       "      <td>1.0</td>\n",
       "      <td>2.0</td>\n",
       "      <td>3.0</td>\n",
       "      <td>NaN</td>\n",
       "      <td>NaN</td>\n",
       "      <td>NaN</td>\n",
       "    </tr>\n",
       "    <tr>\n",
       "      <th>2</th>\n",
       "      <td>2.0</td>\n",
       "      <td>5.0</td>\n",
       "      <td>6.0</td>\n",
       "      <td>7.0</td>\n",
       "      <td>8.0</td>\n",
       "      <td>9.0</td>\n",
       "    </tr>\n",
       "  </tbody>\n",
       "</table>\n",
       "</div>"
      ],
      "text/plain": [
       "     0    1    2    3    4    5\n",
       "0  1.0  2.0  3.0  4.0  NaN  NaN\n",
       "1  1.0  2.0  3.0  NaN  NaN  NaN\n",
       "2  2.0  5.0  6.0  7.0  8.0  9.0"
      ]
     },
     "execution_count": 4,
     "metadata": {},
     "output_type": "execute_result"
    }
   ],
   "source": [
    "from tslearn.utils import to_time_series_dataset\n",
    "X = to_time_series_dataset(sample)\n",
    "X.shape\n",
    "y = [0, 0, 1]\n",
    "\n",
    "pd.DataFrame(X[:,:,0])"
   ]
  },
  {
   "cell_type": "code",
   "execution_count": 5,
   "metadata": {},
   "outputs": [
    {
     "data": {
      "text/plain": [
       "KNeighborsTimeSeriesClassifier(n_neighbors=2)"
      ]
     },
     "execution_count": 5,
     "metadata": {},
     "output_type": "execute_result"
    },
    {
     "data": {
      "text/plain": [
       "array([0, 0, 0])"
      ]
     },
     "execution_count": 5,
     "metadata": {},
     "output_type": "execute_result"
    }
   ],
   "source": [
    "from tslearn.neighbors import KNeighborsTimeSeriesClassifier\n",
    "knn = KNeighborsTimeSeriesClassifier(n_neighbors=2)\n",
    "knn.fit(X, y)\n",
    "knn.predict(X)"
   ]
  },
  {
   "cell_type": "markdown",
   "metadata": {},
   "source": [
    "# Getting started\n",
    "## 1. Time series format"
   ]
  },
  {
   "cell_type": "code",
   "execution_count": 6,
   "metadata": {},
   "outputs": [
    {
     "data": {
      "text/plain": [
       "(4,)"
      ]
     },
     "execution_count": 6,
     "metadata": {},
     "output_type": "execute_result"
    },
    {
     "name": "stdout",
     "output_type": "stream",
     "text": [
      "(4, 1)\n"
     ]
    }
   ],
   "source": [
    "from tslearn.utils import to_time_series\n",
    "my_first_time_series = [1, 3, 4, 2]\n",
    "np.array(my_first_time_series).shape\n",
    "formatted_time_series = to_time_series(my_first_time_series)\n",
    "print(formatted_time_series.shape)"
   ]
  },
  {
   "cell_type": "markdown",
   "metadata": {},
   "source": [
    "In tslearn, a time series is nothing more than a two-dimensional numpy array with its first dimension corresponding to the time axis and the second one being the feature dimensionality (1 by default).\n",
    "\n",
    "Then, if we want to manipulate sets of time series, we can cast them to three-dimensional arrays, using to_time_series_dataset. If time series from the set are not equal-sized, NaN values are appended to the shorter ones and the shape of the resulting array is (n_ts, max_sz, d) where max_sz is the maximum of sizes for time series in the set."
   ]
  },
  {
   "cell_type": "code",
   "execution_count": 7,
   "metadata": {},
   "outputs": [
    {
     "name": "stdout",
     "output_type": "stream",
     "text": [
      "(2, 4, 1)\n"
     ]
    }
   ],
   "source": [
    "from tslearn.utils import to_time_series_dataset\n",
    "my_first_time_series = [1, 3, 4, 2]\n",
    "my_second_time_series = [1, 2, 4, 2]\n",
    "formatted_dataset = to_time_series_dataset([my_first_time_series, my_second_time_series])\n",
    "print(formatted_dataset.shape)"
   ]
  },
  {
   "cell_type": "code",
   "execution_count": 8,
   "metadata": {},
   "outputs": [
    {
     "name": "stdout",
     "output_type": "stream",
     "text": [
      "(3, 5, 1)\n"
     ]
    }
   ],
   "source": [
    "my_third_time_series = [1, 2, 4, 2, 2]\n",
    "formatted_dataset = to_time_series_dataset([my_first_time_series,\n",
    "                                            my_second_time_series,\n",
    "                                            my_third_time_series])\n",
    "print(formatted_dataset.shape)"
   ]
  },
  {
   "cell_type": "markdown",
   "metadata": {},
   "source": [
    "## 2. Importing standard time series datasets\n",
    "If you aim at experimenting with standard time series datasets, you should have a look at the tslearn.datasets."
   ]
  },
  {
   "cell_type": "code",
   "execution_count": 9,
   "metadata": {},
   "outputs": [
    {
     "data": {
      "text/plain": [
       "numpy.ndarray"
      ]
     },
     "execution_count": 9,
     "metadata": {},
     "output_type": "execute_result"
    },
    {
     "name": "stdout",
     "output_type": "stream",
     "text": [
      "(1000, 128, 1)\n",
      "(1000,)\n"
     ]
    }
   ],
   "source": [
    "from tslearn.datasets import UCR_UEA_datasets\n",
    "X_train, y_train, X_test, y_test = UCR_UEA_datasets().load_dataset(\"TwoPatterns\")\n",
    "type(X_train)\n",
    "print(X_train.shape)\n",
    "print(y_train.shape)"
   ]
  },
  {
   "cell_type": "markdown",
   "metadata": {},
   "source": [
    "Note that when working with time series datasets, it can be useful to rescale time series using tools from the tslearn.preprocessing.."
   ]
  },
  {
   "cell_type": "markdown",
   "metadata": {},
   "source": [
    "## 3. Playing with your data\n",
    "Once your data is loaded and formatted according to tslearn standards, the next step is to feed machine learning models with it. Most tslearn models inherit from scikit-learn base classes, hence interacting with them is very similar to interacting with a scikit-learn model, except that datasets are not two-dimensional arrays, but rather tslearn time series datasets (i.e. three-dimensional arrays or lists of two-dimensional arrays).\n",
    "\n",
    "- X_train은 1,000개 time axis, 128개 features"
   ]
  },
  {
   "cell_type": "code",
   "execution_count": 10,
   "metadata": {},
   "outputs": [
    {
     "data": {
      "text/html": [
       "<div>\n",
       "<style scoped>\n",
       "    .dataframe tbody tr th:only-of-type {\n",
       "        vertical-align: middle;\n",
       "    }\n",
       "\n",
       "    .dataframe tbody tr th {\n",
       "        vertical-align: top;\n",
       "    }\n",
       "\n",
       "    .dataframe thead th {\n",
       "        text-align: right;\n",
       "    }\n",
       "</style>\n",
       "<table border=\"1\" class=\"dataframe\">\n",
       "  <thead>\n",
       "    <tr style=\"text-align: right;\">\n",
       "      <th></th>\n",
       "      <th>0</th>\n",
       "      <th>1</th>\n",
       "      <th>2</th>\n",
       "      <th>3</th>\n",
       "      <th>4</th>\n",
       "      <th>5</th>\n",
       "      <th>6</th>\n",
       "      <th>7</th>\n",
       "      <th>8</th>\n",
       "      <th>9</th>\n",
       "      <th>...</th>\n",
       "      <th>118</th>\n",
       "      <th>119</th>\n",
       "      <th>120</th>\n",
       "      <th>121</th>\n",
       "      <th>122</th>\n",
       "      <th>123</th>\n",
       "      <th>124</th>\n",
       "      <th>125</th>\n",
       "      <th>126</th>\n",
       "      <th>127</th>\n",
       "    </tr>\n",
       "  </thead>\n",
       "  <tbody>\n",
       "    <tr>\n",
       "      <th>0</th>\n",
       "      <td>0.230379</td>\n",
       "      <td>0.490966</td>\n",
       "      <td>0.358833</td>\n",
       "      <td>-0.230965</td>\n",
       "      <td>0.090225</td>\n",
       "      <td>-0.501473</td>\n",
       "      <td>-0.339329</td>\n",
       "      <td>0.066836</td>\n",
       "      <td>0.232949</td>\n",
       "      <td>0.028326</td>\n",
       "      <td>...</td>\n",
       "      <td>-1.680129</td>\n",
       "      <td>-1.680129</td>\n",
       "      <td>0.105036</td>\n",
       "      <td>-0.264838</td>\n",
       "      <td>0.306594</td>\n",
       "      <td>-0.075228</td>\n",
       "      <td>-0.222192</td>\n",
       "      <td>0.210745</td>\n",
       "      <td>-0.255429</td>\n",
       "      <td>-0.278942</td>\n",
       "    </tr>\n",
       "    <tr>\n",
       "      <th>1</th>\n",
       "      <td>0.000765</td>\n",
       "      <td>-0.342680</td>\n",
       "      <td>0.188729</td>\n",
       "      <td>-0.479362</td>\n",
       "      <td>-0.281932</td>\n",
       "      <td>0.351927</td>\n",
       "      <td>-0.360330</td>\n",
       "      <td>0.121821</td>\n",
       "      <td>-0.285499</td>\n",
       "      <td>0.085623</td>\n",
       "      <td>...</td>\n",
       "      <td>0.148473</td>\n",
       "      <td>-0.221473</td>\n",
       "      <td>-0.090350</td>\n",
       "      <td>0.606164</td>\n",
       "      <td>-0.589216</td>\n",
       "      <td>-0.187478</td>\n",
       "      <td>-0.189875</td>\n",
       "      <td>-0.642700</td>\n",
       "      <td>-0.121495</td>\n",
       "      <td>0.525895</td>\n",
       "    </tr>\n",
       "    <tr>\n",
       "      <th>2</th>\n",
       "      <td>0.170442</td>\n",
       "      <td>-0.018864</td>\n",
       "      <td>0.402452</td>\n",
       "      <td>-0.075797</td>\n",
       "      <td>0.156014</td>\n",
       "      <td>-0.150981</td>\n",
       "      <td>-0.171141</td>\n",
       "      <td>-0.179950</td>\n",
       "      <td>-0.108274</td>\n",
       "      <td>0.175447</td>\n",
       "      <td>...</td>\n",
       "      <td>0.098403</td>\n",
       "      <td>-0.122188</td>\n",
       "      <td>-0.043269</td>\n",
       "      <td>-0.205324</td>\n",
       "      <td>0.093592</td>\n",
       "      <td>0.346100</td>\n",
       "      <td>-0.508802</td>\n",
       "      <td>-0.220517</td>\n",
       "      <td>0.257965</td>\n",
       "      <td>0.662665</td>\n",
       "    </tr>\n",
       "    <tr>\n",
       "      <th>3</th>\n",
       "      <td>0.239996</td>\n",
       "      <td>0.709401</td>\n",
       "      <td>-0.686034</td>\n",
       "      <td>0.615863</td>\n",
       "      <td>-0.345213</td>\n",
       "      <td>-0.677124</td>\n",
       "      <td>-0.890195</td>\n",
       "      <td>-0.150061</td>\n",
       "      <td>-0.183684</td>\n",
       "      <td>-0.555484</td>\n",
       "      <td>...</td>\n",
       "      <td>-0.185940</td>\n",
       "      <td>-0.291869</td>\n",
       "      <td>0.181239</td>\n",
       "      <td>-0.404985</td>\n",
       "      <td>0.282751</td>\n",
       "      <td>0.065136</td>\n",
       "      <td>-0.389442</td>\n",
       "      <td>-0.034956</td>\n",
       "      <td>0.548547</td>\n",
       "      <td>-0.599219</td>\n",
       "    </tr>\n",
       "    <tr>\n",
       "      <th>4</th>\n",
       "      <td>0.404257</td>\n",
       "      <td>0.824277</td>\n",
       "      <td>-0.427975</td>\n",
       "      <td>-0.345740</td>\n",
       "      <td>0.461754</td>\n",
       "      <td>0.211839</td>\n",
       "      <td>0.395389</td>\n",
       "      <td>0.009144</td>\n",
       "      <td>-0.173102</td>\n",
       "      <td>-0.102791</td>\n",
       "      <td>...</td>\n",
       "      <td>-1.756405</td>\n",
       "      <td>-1.756405</td>\n",
       "      <td>-1.756405</td>\n",
       "      <td>-1.756405</td>\n",
       "      <td>-1.756405</td>\n",
       "      <td>-1.756405</td>\n",
       "      <td>-1.756405</td>\n",
       "      <td>-0.227913</td>\n",
       "      <td>-0.002611</td>\n",
       "      <td>-0.482962</td>\n",
       "    </tr>\n",
       "    <tr>\n",
       "      <th>...</th>\n",
       "      <td>...</td>\n",
       "      <td>...</td>\n",
       "      <td>...</td>\n",
       "      <td>...</td>\n",
       "      <td>...</td>\n",
       "      <td>...</td>\n",
       "      <td>...</td>\n",
       "      <td>...</td>\n",
       "      <td>...</td>\n",
       "      <td>...</td>\n",
       "      <td>...</td>\n",
       "      <td>...</td>\n",
       "      <td>...</td>\n",
       "      <td>...</td>\n",
       "      <td>...</td>\n",
       "      <td>...</td>\n",
       "      <td>...</td>\n",
       "      <td>...</td>\n",
       "      <td>...</td>\n",
       "      <td>...</td>\n",
       "      <td>...</td>\n",
       "    </tr>\n",
       "    <tr>\n",
       "      <th>995</th>\n",
       "      <td>-0.074781</td>\n",
       "      <td>-0.403872</td>\n",
       "      <td>0.291261</td>\n",
       "      <td>0.115829</td>\n",
       "      <td>0.003982</td>\n",
       "      <td>0.496090</td>\n",
       "      <td>-1.492083</td>\n",
       "      <td>-1.492083</td>\n",
       "      <td>-1.492083</td>\n",
       "      <td>-1.492083</td>\n",
       "      <td>...</td>\n",
       "      <td>-0.448258</td>\n",
       "      <td>0.012827</td>\n",
       "      <td>0.573869</td>\n",
       "      <td>0.177051</td>\n",
       "      <td>0.377711</td>\n",
       "      <td>-0.217953</td>\n",
       "      <td>0.345450</td>\n",
       "      <td>-0.105799</td>\n",
       "      <td>-0.446109</td>\n",
       "      <td>0.060095</td>\n",
       "    </tr>\n",
       "    <tr>\n",
       "      <th>996</th>\n",
       "      <td>0.030514</td>\n",
       "      <td>0.312165</td>\n",
       "      <td>0.293222</td>\n",
       "      <td>0.686956</td>\n",
       "      <td>-0.409233</td>\n",
       "      <td>-0.286344</td>\n",
       "      <td>-0.073776</td>\n",
       "      <td>-0.377694</td>\n",
       "      <td>0.059337</td>\n",
       "      <td>-1.540579</td>\n",
       "      <td>...</td>\n",
       "      <td>-0.237559</td>\n",
       "      <td>-0.135427</td>\n",
       "      <td>0.024679</td>\n",
       "      <td>0.655554</td>\n",
       "      <td>0.322178</td>\n",
       "      <td>-0.369771</td>\n",
       "      <td>0.153728</td>\n",
       "      <td>-0.144862</td>\n",
       "      <td>0.042389</td>\n",
       "      <td>0.782946</td>\n",
       "    </tr>\n",
       "    <tr>\n",
       "      <th>997</th>\n",
       "      <td>-0.359984</td>\n",
       "      <td>0.225779</td>\n",
       "      <td>0.017964</td>\n",
       "      <td>-0.136261</td>\n",
       "      <td>-0.350237</td>\n",
       "      <td>1.546863</td>\n",
       "      <td>1.546863</td>\n",
       "      <td>1.546863</td>\n",
       "      <td>1.546863</td>\n",
       "      <td>1.546863</td>\n",
       "      <td>...</td>\n",
       "      <td>0.047785</td>\n",
       "      <td>-0.184004</td>\n",
       "      <td>-0.224689</td>\n",
       "      <td>0.369715</td>\n",
       "      <td>0.067947</td>\n",
       "      <td>0.204335</td>\n",
       "      <td>0.150944</td>\n",
       "      <td>0.374297</td>\n",
       "      <td>0.416022</td>\n",
       "      <td>-0.273367</td>\n",
       "    </tr>\n",
       "    <tr>\n",
       "      <th>998</th>\n",
       "      <td>0.246860</td>\n",
       "      <td>-0.336971</td>\n",
       "      <td>-0.371287</td>\n",
       "      <td>-0.152266</td>\n",
       "      <td>0.204181</td>\n",
       "      <td>-0.024290</td>\n",
       "      <td>0.168112</td>\n",
       "      <td>0.149965</td>\n",
       "      <td>0.695047</td>\n",
       "      <td>-1.489582</td>\n",
       "      <td>...</td>\n",
       "      <td>0.587133</td>\n",
       "      <td>0.213377</td>\n",
       "      <td>-0.286321</td>\n",
       "      <td>-0.436844</td>\n",
       "      <td>-0.254895</td>\n",
       "      <td>0.584190</td>\n",
       "      <td>-0.372136</td>\n",
       "      <td>0.068405</td>\n",
       "      <td>0.091422</td>\n",
       "      <td>0.427667</td>\n",
       "    </tr>\n",
       "    <tr>\n",
       "      <th>999</th>\n",
       "      <td>-0.310336</td>\n",
       "      <td>-0.245246</td>\n",
       "      <td>-0.300006</td>\n",
       "      <td>-0.195451</td>\n",
       "      <td>-0.081592</td>\n",
       "      <td>0.216821</td>\n",
       "      <td>0.361317</td>\n",
       "      <td>0.251999</td>\n",
       "      <td>-0.104238</td>\n",
       "      <td>-0.533273</td>\n",
       "      <td>...</td>\n",
       "      <td>1.678267</td>\n",
       "      <td>1.678267</td>\n",
       "      <td>0.366589</td>\n",
       "      <td>-0.347013</td>\n",
       "      <td>-0.177693</td>\n",
       "      <td>0.052248</td>\n",
       "      <td>-0.403711</td>\n",
       "      <td>0.390716</td>\n",
       "      <td>-0.155068</td>\n",
       "      <td>0.642307</td>\n",
       "    </tr>\n",
       "  </tbody>\n",
       "</table>\n",
       "<p>1000 rows × 128 columns</p>\n",
       "</div>"
      ],
      "text/plain": [
       "          0         1         2         3         4         5         6    \\\n",
       "0    0.230379  0.490966  0.358833 -0.230965  0.090225 -0.501473 -0.339329   \n",
       "1    0.000765 -0.342680  0.188729 -0.479362 -0.281932  0.351927 -0.360330   \n",
       "2    0.170442 -0.018864  0.402452 -0.075797  0.156014 -0.150981 -0.171141   \n",
       "3    0.239996  0.709401 -0.686034  0.615863 -0.345213 -0.677124 -0.890195   \n",
       "4    0.404257  0.824277 -0.427975 -0.345740  0.461754  0.211839  0.395389   \n",
       "..        ...       ...       ...       ...       ...       ...       ...   \n",
       "995 -0.074781 -0.403872  0.291261  0.115829  0.003982  0.496090 -1.492083   \n",
       "996  0.030514  0.312165  0.293222  0.686956 -0.409233 -0.286344 -0.073776   \n",
       "997 -0.359984  0.225779  0.017964 -0.136261 -0.350237  1.546863  1.546863   \n",
       "998  0.246860 -0.336971 -0.371287 -0.152266  0.204181 -0.024290  0.168112   \n",
       "999 -0.310336 -0.245246 -0.300006 -0.195451 -0.081592  0.216821  0.361317   \n",
       "\n",
       "          7         8         9    ...       118       119       120  \\\n",
       "0    0.066836  0.232949  0.028326  ... -1.680129 -1.680129  0.105036   \n",
       "1    0.121821 -0.285499  0.085623  ...  0.148473 -0.221473 -0.090350   \n",
       "2   -0.179950 -0.108274  0.175447  ...  0.098403 -0.122188 -0.043269   \n",
       "3   -0.150061 -0.183684 -0.555484  ... -0.185940 -0.291869  0.181239   \n",
       "4    0.009144 -0.173102 -0.102791  ... -1.756405 -1.756405 -1.756405   \n",
       "..        ...       ...       ...  ...       ...       ...       ...   \n",
       "995 -1.492083 -1.492083 -1.492083  ... -0.448258  0.012827  0.573869   \n",
       "996 -0.377694  0.059337 -1.540579  ... -0.237559 -0.135427  0.024679   \n",
       "997  1.546863  1.546863  1.546863  ...  0.047785 -0.184004 -0.224689   \n",
       "998  0.149965  0.695047 -1.489582  ...  0.587133  0.213377 -0.286321   \n",
       "999  0.251999 -0.104238 -0.533273  ...  1.678267  1.678267  0.366589   \n",
       "\n",
       "          121       122       123       124       125       126       127  \n",
       "0   -0.264838  0.306594 -0.075228 -0.222192  0.210745 -0.255429 -0.278942  \n",
       "1    0.606164 -0.589216 -0.187478 -0.189875 -0.642700 -0.121495  0.525895  \n",
       "2   -0.205324  0.093592  0.346100 -0.508802 -0.220517  0.257965  0.662665  \n",
       "3   -0.404985  0.282751  0.065136 -0.389442 -0.034956  0.548547 -0.599219  \n",
       "4   -1.756405 -1.756405 -1.756405 -1.756405 -0.227913 -0.002611 -0.482962  \n",
       "..        ...       ...       ...       ...       ...       ...       ...  \n",
       "995  0.177051  0.377711 -0.217953  0.345450 -0.105799 -0.446109  0.060095  \n",
       "996  0.655554  0.322178 -0.369771  0.153728 -0.144862  0.042389  0.782946  \n",
       "997  0.369715  0.067947  0.204335  0.150944  0.374297  0.416022 -0.273367  \n",
       "998 -0.436844 -0.254895  0.584190 -0.372136  0.068405  0.091422  0.427667  \n",
       "999 -0.347013 -0.177693  0.052248 -0.403711  0.390716 -0.155068  0.642307  \n",
       "\n",
       "[1000 rows x 128 columns]"
      ]
     },
     "execution_count": 10,
     "metadata": {},
     "output_type": "execute_result"
    }
   ],
   "source": [
    "pd.DataFrame(np.squeeze(X_train))"
   ]
  },
  {
   "cell_type": "markdown",
   "metadata": {},
   "source": [
    "### what is dynamic time warping?\n",
    "- https://en.wikipedia.org/wiki/Dynamic_time_warping\n",
    "- https://dinhanhthi.com/dynamic-time-warping-dtw/\n",
    "<img src = 'https://dinhanhthi.com/img/post/time-series/Euclidean-distance-vs-DTW-1280w.webp'>\n",
    "<img src = 'https://dinhanhthi.com/img/post/time-series/dtw-example-1280w.webp'>"
   ]
  },
  {
   "cell_type": "code",
   "execution_count": 11,
   "metadata": {},
   "outputs": [
    {
     "data": {
      "text/plain": [
       "0.0"
      ]
     },
     "execution_count": 11,
     "metadata": {},
     "output_type": "execute_result"
    },
    {
     "data": {
      "text/plain": [
       "1.0"
      ]
     },
     "execution_count": 11,
     "metadata": {},
     "output_type": "execute_result"
    },
    {
     "data": {
      "text/plain": [
       "4.0"
      ]
     },
     "execution_count": 11,
     "metadata": {},
     "output_type": "execute_result"
    },
    {
     "data": {
      "text/plain": [
       "0.0"
      ]
     },
     "execution_count": 11,
     "metadata": {},
     "output_type": "execute_result"
    },
    {
     "data": {
      "text/plain": [
       "0.0"
      ]
     },
     "execution_count": 11,
     "metadata": {},
     "output_type": "execute_result"
    },
    {
     "data": {
      "text/plain": [
       "1.0"
      ]
     },
     "execution_count": 11,
     "metadata": {},
     "output_type": "execute_result"
    }
   ],
   "source": [
    "from tslearn.metrics import dtw\n",
    "dtw([1, 2, 3], [1., 2., 3.])\n",
    "dtw([1, 2, 3], [1., 2., 4.])\n",
    "dtw([1, 2, 3], [1., 2., 7.])\n",
    "\n",
    "dtw([1, 2, 3], [1., 2., 2., 3.])\n",
    "dtw([1, 2, 3], [1., 2., 2., 2., 2., 2., 2., 3.])\n",
    "dtw([1, 2, 3], [1., 2., 2., 3., 4.])"
   ]
  },
  {
   "cell_type": "markdown",
   "metadata": {},
   "source": [
    "## Dynamic Time Warping (DTW)"
   ]
  },
  {
   "cell_type": "code",
   "execution_count": 27,
   "metadata": {},
   "outputs": [
    {
     "data": {
      "text/plain": [
       "[<matplotlib.lines.Line2D at 0x25b99b4ed30>]"
      ]
     },
     "execution_count": 27,
     "metadata": {},
     "output_type": "execute_result"
    },
    {
     "data": {
      "text/plain": [
       "[<matplotlib.lines.Line2D at 0x25b99b3ac70>]"
      ]
     },
     "execution_count": 27,
     "metadata": {},
     "output_type": "execute_result"
    },
    {
     "data": {
      "text/plain": [
       "1.4142135623730951"
      ]
     },
     "execution_count": 27,
     "metadata": {},
     "output_type": "execute_result"
    },
    {
     "data": {
      "image/png": "[encoded data removed]",
      "text/plain": [
       "<Figure size 432x288 with 1 Axes>"
      ]
     },
     "metadata": {
      "needs_background": "light"
     },
     "output_type": "display_data"
    }
   ],
   "source": [
    "s1 = [0, 0, 1, 2, 1, 0, 1, 0, 0]\n",
    "s2 = [0, 1, 2, 0, 0, 0, 0, 0, 0]\n",
    "plt.plot(s1); plt.plot(s2)\n",
    "dtw(s1, s2)"
   ]
  },
  {
   "cell_type": "code",
   "execution_count": 14,
   "metadata": {},
   "outputs": [
    {
     "data": {
      "text/plain": [
       "[<matplotlib.lines.Line2D at 0x25b998440a0>]"
      ]
     },
     "execution_count": 14,
     "metadata": {},
     "output_type": "execute_result"
    },
    {
     "data": {
      "text/plain": [
       "[<matplotlib.lines.Line2D at 0x25b99820790>]"
      ]
     },
     "execution_count": 14,
     "metadata": {},
     "output_type": "execute_result"
    },
    {
     "data": {
      "text/plain": [
       "14.7648230602334"
      ]
     },
     "execution_count": 14,
     "metadata": {},
     "output_type": "execute_result"
    },
    {
     "data": {
      "image/png": "[encoded data removed]",
      "text/plain": [
       "<Figure size 432x288 with 1 Axes>"
      ]
     },
     "metadata": {
      "needs_background": "light"
     },
     "output_type": "display_data"
    }
   ],
   "source": [
    "s1 = [1,2,3,4,2,3]\n",
    "s2 = [7,8,5,9,11,9]\n",
    "plt.plot(s1); plt.plot(s2)\n",
    "dtw(s1, s2)"
   ]
  },
  {
   "cell_type": "code",
   "execution_count": 138,
   "metadata": {},
   "outputs": [
    {
     "data": {
      "text/plain": [
       "[<matplotlib.lines.Line2D at 0x16ac609cc70>]"
      ]
     },
     "execution_count": 138,
     "metadata": {},
     "output_type": "execute_result"
    },
    {
     "data": {
      "text/plain": [
       "[<matplotlib.lines.Line2D at 0x16abb1242b0>]"
      ]
     },
     "execution_count": 138,
     "metadata": {},
     "output_type": "execute_result"
    },
    {
     "data": {
      "text/plain": [
       "0.0"
      ]
     },
     "execution_count": 138,
     "metadata": {},
     "output_type": "execute_result"
    },
    {
     "data": {
      "image/png": "[encoded data removed]",
      "text/plain": [
       "<Figure size 432x288 with 1 Axes>"
      ]
     },
     "metadata": {
      "needs_background": "light"
     },
     "output_type": "display_data"
    }
   ],
   "source": [
    "s1 = [0, 0, 1, 2, 1, 0, 1, 0, 0]\n",
    "s2 = [0, 0, 0, 0, 0, 0, 0, 0, 1, 2, 1, 0, 1, 0, 0]\n",
    "plt.plot(s1); plt.plot(s2)\n",
    "dtw(s1, s2)"
   ]
  },
  {
   "cell_type": "markdown",
   "metadata": {},
   "source": [
    "### 예제"
   ]
  },
  {
   "cell_type": "code",
   "execution_count": 40,
   "metadata": {},
   "outputs": [],
   "source": [
    "from tslearn.clustering import TimeSeriesKMeans\n",
    "km = TimeSeriesKMeans(n_clusters=3, metric=\"dtw\")"
   ]
  },
  {
   "cell_type": "code",
   "execution_count": 93,
   "metadata": {},
   "outputs": [
    {
     "data": {
      "text/html": [
       "<div>\n",
       "<style scoped>\n",
       "    .dataframe tbody tr th:only-of-type {\n",
       "        vertical-align: middle;\n",
       "    }\n",
       "\n",
       "    .dataframe tbody tr th {\n",
       "        vertical-align: top;\n",
       "    }\n",
       "\n",
       "    .dataframe thead th {\n",
       "        text-align: right;\n",
       "    }\n",
       "</style>\n",
       "<table border=\"1\" class=\"dataframe\">\n",
       "  <thead>\n",
       "    <tr style=\"text-align: right;\">\n",
       "      <th></th>\n",
       "      <th>t+1</th>\n",
       "      <th>t+2</th>\n",
       "      <th>t+3</th>\n",
       "      <th>t+4</th>\n",
       "      <th>t+5</th>\n",
       "      <th>t+6</th>\n",
       "      <th>t+7</th>\n",
       "      <th>t+8</th>\n",
       "      <th>t+9</th>\n",
       "    </tr>\n",
       "  </thead>\n",
       "  <tbody>\n",
       "    <tr>\n",
       "      <th>0</th>\n",
       "      <td>0.0</td>\n",
       "      <td>0.0</td>\n",
       "      <td>1.0</td>\n",
       "      <td>2.0</td>\n",
       "      <td>1.0</td>\n",
       "      <td>0.0</td>\n",
       "      <td>1.0</td>\n",
       "      <td>0.0</td>\n",
       "      <td>0.0</td>\n",
       "    </tr>\n",
       "    <tr>\n",
       "      <th>1</th>\n",
       "      <td>0.0</td>\n",
       "      <td>1.0</td>\n",
       "      <td>2.0</td>\n",
       "      <td>0.0</td>\n",
       "      <td>0.0</td>\n",
       "      <td>0.0</td>\n",
       "      <td>0.0</td>\n",
       "      <td>0.0</td>\n",
       "      <td>0.0</td>\n",
       "    </tr>\n",
       "    <tr>\n",
       "      <th>2</th>\n",
       "      <td>1.0</td>\n",
       "      <td>2.0</td>\n",
       "      <td>0.0</td>\n",
       "      <td>0.0</td>\n",
       "      <td>0.0</td>\n",
       "      <td>0.0</td>\n",
       "      <td>0.0</td>\n",
       "      <td>1.0</td>\n",
       "      <td>1.0</td>\n",
       "    </tr>\n",
       "    <tr>\n",
       "      <th>3</th>\n",
       "      <td>0.0</td>\n",
       "      <td>0.0</td>\n",
       "      <td>1.0</td>\n",
       "      <td>2.0</td>\n",
       "      <td>1.0</td>\n",
       "      <td>0.0</td>\n",
       "      <td>1.0</td>\n",
       "      <td>0.0</td>\n",
       "      <td>0.0</td>\n",
       "    </tr>\n",
       "    <tr>\n",
       "      <th>4</th>\n",
       "      <td>0.0</td>\n",
       "      <td>1.0</td>\n",
       "      <td>2.0</td>\n",
       "      <td>0.0</td>\n",
       "      <td>0.0</td>\n",
       "      <td>0.0</td>\n",
       "      <td>0.0</td>\n",
       "      <td>0.0</td>\n",
       "      <td>0.0</td>\n",
       "    </tr>\n",
       "    <tr>\n",
       "      <th>5</th>\n",
       "      <td>0.0</td>\n",
       "      <td>0.0</td>\n",
       "      <td>0.0</td>\n",
       "      <td>0.0</td>\n",
       "      <td>0.0</td>\n",
       "      <td>1.0</td>\n",
       "      <td>2.0</td>\n",
       "      <td>0.0</td>\n",
       "      <td>0.0</td>\n",
       "    </tr>\n",
       "    <tr>\n",
       "      <th>6</th>\n",
       "      <td>1.0</td>\n",
       "      <td>2.0</td>\n",
       "      <td>0.0</td>\n",
       "      <td>0.0</td>\n",
       "      <td>0.0</td>\n",
       "      <td>0.0</td>\n",
       "      <td>0.0</td>\n",
       "      <td>1.0</td>\n",
       "      <td>1.0</td>\n",
       "    </tr>\n",
       "  </tbody>\n",
       "</table>\n",
       "</div>"
      ],
      "text/plain": [
       "   t+1  t+2  t+3  t+4  t+5  t+6  t+7  t+8  t+9\n",
       "0  0.0  0.0  1.0  2.0  1.0  0.0  1.0  0.0  0.0\n",
       "1  0.0  1.0  2.0  0.0  0.0  0.0  0.0  0.0  0.0\n",
       "2  1.0  2.0  0.0  0.0  0.0  0.0  0.0  1.0  1.0\n",
       "3  0.0  0.0  1.0  2.0  1.0  0.0  1.0  0.0  0.0\n",
       "4  0.0  1.0  2.0  0.0  0.0  0.0  0.0  0.0  0.0\n",
       "5  0.0  0.0  0.0  0.0  0.0  1.0  2.0  0.0  0.0\n",
       "6  1.0  2.0  0.0  0.0  0.0  0.0  0.0  1.0  1.0"
      ]
     },
     "execution_count": 93,
     "metadata": {},
     "output_type": "execute_result"
    }
   ],
   "source": [
    "timeseries = np.array([\n",
    "     [0., 0, 1, 2, 1, 0, 1, 0, 0],\n",
    "     [0., 1, 2, 0, 0, 0, 0, 0, 0],\n",
    "     [1., 2, 0, 0, 0, 0, 0, 1, 1],\n",
    "     [0., 0, 1, 2, 1, 0, 1, 0, 0],\n",
    "     [0., 1, 2, 0, 0, 0, 0, 0, 0],\n",
    "     [0., 0, 0, 0, 0, 1, 2, 0, 0],\n",
    "     [1., 2, 0, 0, 0, 0, 0, 1, 1]])\n",
    "\n",
    "timeseries_pd = pd.DataFrame(timeseries, \n",
    "                             columns=['t+1','t+2','t+3','t+4','t+5','t+6','t+7','t+8','t+9'])\n",
    "timeseries_pd"
   ]
  },
  {
   "cell_type": "code",
   "execution_count": 94,
   "metadata": {},
   "outputs": [
    {
     "data": {
      "text/plain": [
       "<AxesSubplot:>"
      ]
     },
     "execution_count": 94,
     "metadata": {},
     "output_type": "execute_result"
    },
    {
     "data": {
      "text/plain": [
       "0.0"
      ]
     },
     "execution_count": 94,
     "metadata": {},
     "output_type": "execute_result"
    },
    {
     "data": {
      "image/png": "[encoded data removed]",
      "text/plain": [
       "<Figure size 1080x216 with 1 Axes>"
      ]
     },
     "metadata": {
      "needs_background": "light"
     },
     "output_type": "display_data"
    }
   ],
   "source": [
    "timeseries_pd.T.plot(figsize=(15,3))\n",
    "dtw(timeseries_pd.loc[4, :], timeseries_pd.loc[5, :])"
   ]
  },
  {
   "cell_type": "markdown",
   "metadata": {},
   "source": [
    "### np.array_K-means(dtw)"
   ]
  },
  {
   "cell_type": "code",
   "execution_count": 95,
   "metadata": {},
   "outputs": [
    {
     "data": {
      "text/plain": [
       "TimeSeriesKMeans(metric='dtw')"
      ]
     },
     "execution_count": 95,
     "metadata": {},
     "output_type": "execute_result"
    },
    {
     "data": {
      "text/plain": [
       "array([2, 0, 1, 2, 0, 0, 1], dtype=int64)"
      ]
     },
     "execution_count": 95,
     "metadata": {},
     "output_type": "execute_result"
    }
   ],
   "source": [
    "km = TimeSeriesKMeans(n_clusters=3, metric=\"dtw\")\n",
    "km.fit(timeseries)\n",
    "km.predict(timeseries)"
   ]
  },
  {
   "cell_type": "markdown",
   "metadata": {},
   "source": [
    "### pandas_K-means(dtw)"
   ]
  },
  {
   "cell_type": "code",
   "execution_count": 96,
   "metadata": {},
   "outputs": [
    {
     "data": {
      "text/plain": [
       "TimeSeriesKMeans(metric='dtw')"
      ]
     },
     "execution_count": 96,
     "metadata": {},
     "output_type": "execute_result"
    },
    {
     "data": {
      "text/plain": [
       "array([2, 0, 1, 2, 0, 0, 1], dtype=int64)"
      ]
     },
     "execution_count": 96,
     "metadata": {},
     "output_type": "execute_result"
    }
   ],
   "source": [
    "km = TimeSeriesKMeans(n_clusters=3, metric=\"dtw\")\n",
    "km.fit(timeseries_pd)\n",
    "km.predict(timeseries_pd)"
   ]
  },
  {
   "cell_type": "code",
   "execution_count": null,
   "metadata": {},
   "outputs": [],
   "source": []
  },
  {
   "cell_type": "code",
   "execution_count": null,
   "metadata": {},
   "outputs": [],
   "source": []
  },
  {
   "cell_type": "code",
   "execution_count": 34,
   "metadata": {},
   "outputs": [
    {
     "data": {
      "text/plain": [
       "TimeSeriesKMeans(metric='dtw')"
      ]
     },
     "execution_count": 34,
     "metadata": {},
     "output_type": "execute_result"
    }
   ],
   "source": [
    "km.fit(X_train)"
   ]
  },
  {
   "cell_type": "code",
   "execution_count": 45,
   "metadata": {},
   "outputs": [
    {
     "data": {
      "text/plain": [
       "(4000, 128, 1)"
      ]
     },
     "execution_count": 45,
     "metadata": {},
     "output_type": "execute_result"
    },
    {
     "data": {
      "text/plain": [
       "(4000,)"
      ]
     },
     "execution_count": 45,
     "metadata": {},
     "output_type": "execute_result"
    }
   ],
   "source": [
    "X_test.shape\n",
    "y_pred = km.predict(X_test)"
   ]
  },
  {
   "cell_type": "code",
   "execution_count": 91,
   "metadata": {},
   "outputs": [
    {
     "data": {
      "text/html": [
       "<div>\n",
       "<style scoped>\n",
       "    .dataframe tbody tr th:only-of-type {\n",
       "        vertical-align: middle;\n",
       "    }\n",
       "\n",
       "    .dataframe tbody tr th {\n",
       "        vertical-align: top;\n",
       "    }\n",
       "\n",
       "    .dataframe thead th {\n",
       "        text-align: right;\n",
       "    }\n",
       "</style>\n",
       "<table border=\"1\" class=\"dataframe\">\n",
       "  <thead>\n",
       "    <tr style=\"text-align: right;\">\n",
       "      <th></th>\n",
       "      <th>0</th>\n",
       "      <th>1</th>\n",
       "      <th>2</th>\n",
       "      <th>3</th>\n",
       "      <th>4</th>\n",
       "      <th>5</th>\n",
       "      <th>6</th>\n",
       "      <th>7</th>\n",
       "      <th>8</th>\n",
       "      <th>9</th>\n",
       "      <th>...</th>\n",
       "      <th>119</th>\n",
       "      <th>120</th>\n",
       "      <th>121</th>\n",
       "      <th>122</th>\n",
       "      <th>123</th>\n",
       "      <th>124</th>\n",
       "      <th>125</th>\n",
       "      <th>126</th>\n",
       "      <th>127</th>\n",
       "      <th>cluster</th>\n",
       "    </tr>\n",
       "  </thead>\n",
       "  <tbody>\n",
       "    <tr>\n",
       "      <th>0</th>\n",
       "      <td>0.092276</td>\n",
       "      <td>-0.223990</td>\n",
       "      <td>0.147545</td>\n",
       "      <td>-0.431031</td>\n",
       "      <td>-0.304397</td>\n",
       "      <td>0.244396</td>\n",
       "      <td>-0.144781</td>\n",
       "      <td>0.299219</td>\n",
       "      <td>-0.443211</td>\n",
       "      <td>0.259552</td>\n",
       "      <td>...</td>\n",
       "      <td>-1.504237</td>\n",
       "      <td>-1.504237</td>\n",
       "      <td>0.159724</td>\n",
       "      <td>0.265907</td>\n",
       "      <td>0.138505</td>\n",
       "      <td>-0.334746</td>\n",
       "      <td>-0.544100</td>\n",
       "      <td>-0.184376</td>\n",
       "      <td>0.108490</td>\n",
       "      <td>0</td>\n",
       "    </tr>\n",
       "    <tr>\n",
       "      <th>1</th>\n",
       "      <td>-0.283450</td>\n",
       "      <td>-0.326020</td>\n",
       "      <td>0.330485</td>\n",
       "      <td>0.061099</td>\n",
       "      <td>-0.285491</td>\n",
       "      <td>0.085344</td>\n",
       "      <td>0.672175</td>\n",
       "      <td>-0.043962</td>\n",
       "      <td>-0.177207</td>\n",
       "      <td>0.192364</td>\n",
       "      <td>...</td>\n",
       "      <td>0.322911</td>\n",
       "      <td>0.009204</td>\n",
       "      <td>-0.179319</td>\n",
       "      <td>-0.047088</td>\n",
       "      <td>0.298377</td>\n",
       "      <td>-0.164910</td>\n",
       "      <td>0.935590</td>\n",
       "      <td>0.092190</td>\n",
       "      <td>-0.401522</td>\n",
       "      <td>2</td>\n",
       "    </tr>\n",
       "    <tr>\n",
       "      <th>2</th>\n",
       "      <td>-0.430795</td>\n",
       "      <td>0.155334</td>\n",
       "      <td>-0.721453</td>\n",
       "      <td>-0.102576</td>\n",
       "      <td>-0.332756</td>\n",
       "      <td>0.101725</td>\n",
       "      <td>-0.432919</td>\n",
       "      <td>0.276727</td>\n",
       "      <td>0.386408</td>\n",
       "      <td>0.144596</td>\n",
       "      <td>...</td>\n",
       "      <td>-0.196227</td>\n",
       "      <td>-0.031192</td>\n",
       "      <td>-0.111958</td>\n",
       "      <td>0.115843</td>\n",
       "      <td>0.053130</td>\n",
       "      <td>0.114425</td>\n",
       "      <td>-0.096989</td>\n",
       "      <td>0.668431</td>\n",
       "      <td>0.049152</td>\n",
       "      <td>0</td>\n",
       "    </tr>\n",
       "    <tr>\n",
       "      <th>3</th>\n",
       "      <td>-0.531494</td>\n",
       "      <td>0.103033</td>\n",
       "      <td>0.323408</td>\n",
       "      <td>-0.616874</td>\n",
       "      <td>0.179767</td>\n",
       "      <td>-0.111653</td>\n",
       "      <td>-0.180944</td>\n",
       "      <td>-0.181608</td>\n",
       "      <td>0.437917</td>\n",
       "      <td>0.117363</td>\n",
       "      <td>...</td>\n",
       "      <td>1.683367</td>\n",
       "      <td>1.683367</td>\n",
       "      <td>1.683367</td>\n",
       "      <td>1.683367</td>\n",
       "      <td>1.683367</td>\n",
       "      <td>1.683367</td>\n",
       "      <td>1.683367</td>\n",
       "      <td>1.683367</td>\n",
       "      <td>-0.162545</td>\n",
       "      <td>0</td>\n",
       "    </tr>\n",
       "    <tr>\n",
       "      <th>4</th>\n",
       "      <td>-0.153574</td>\n",
       "      <td>-0.087640</td>\n",
       "      <td>-0.240677</td>\n",
       "      <td>-0.202274</td>\n",
       "      <td>-0.115275</td>\n",
       "      <td>0.021871</td>\n",
       "      <td>-0.123556</td>\n",
       "      <td>-0.181116</td>\n",
       "      <td>0.062237</td>\n",
       "      <td>-0.127736</td>\n",
       "      <td>...</td>\n",
       "      <td>0.965358</td>\n",
       "      <td>-0.691474</td>\n",
       "      <td>-0.332806</td>\n",
       "      <td>-0.125958</td>\n",
       "      <td>-0.390833</td>\n",
       "      <td>0.079431</td>\n",
       "      <td>-0.088307</td>\n",
       "      <td>-0.095284</td>\n",
       "      <td>-0.047731</td>\n",
       "      <td>0</td>\n",
       "    </tr>\n",
       "    <tr>\n",
       "      <th>5</th>\n",
       "      <td>-0.349061</td>\n",
       "      <td>0.419365</td>\n",
       "      <td>-0.230411</td>\n",
       "      <td>0.446621</td>\n",
       "      <td>-0.432607</td>\n",
       "      <td>-0.192926</td>\n",
       "      <td>0.581457</td>\n",
       "      <td>0.356121</td>\n",
       "      <td>-0.177010</td>\n",
       "      <td>-0.065259</td>\n",
       "      <td>...</td>\n",
       "      <td>-0.183541</td>\n",
       "      <td>-0.058119</td>\n",
       "      <td>-0.375052</td>\n",
       "      <td>0.055348</td>\n",
       "      <td>0.066159</td>\n",
       "      <td>-0.315190</td>\n",
       "      <td>0.146058</td>\n",
       "      <td>0.025510</td>\n",
       "      <td>-0.061479</td>\n",
       "      <td>2</td>\n",
       "    </tr>\n",
       "    <tr>\n",
       "      <th>6</th>\n",
       "      <td>0.042369</td>\n",
       "      <td>-0.491693</td>\n",
       "      <td>0.432670</td>\n",
       "      <td>0.051966</td>\n",
       "      <td>-0.274385</td>\n",
       "      <td>-0.330518</td>\n",
       "      <td>-0.137227</td>\n",
       "      <td>-0.424278</td>\n",
       "      <td>1.447462</td>\n",
       "      <td>1.447462</td>\n",
       "      <td>...</td>\n",
       "      <td>0.406636</td>\n",
       "      <td>-0.342532</td>\n",
       "      <td>-0.068167</td>\n",
       "      <td>0.196201</td>\n",
       "      <td>-0.063789</td>\n",
       "      <td>-0.357538</td>\n",
       "      <td>-0.036437</td>\n",
       "      <td>-0.277776</td>\n",
       "      <td>0.683957</td>\n",
       "      <td>0</td>\n",
       "    </tr>\n",
       "    <tr>\n",
       "      <th>7</th>\n",
       "      <td>0.764622</td>\n",
       "      <td>-0.202979</td>\n",
       "      <td>-0.149776</td>\n",
       "      <td>0.201866</td>\n",
       "      <td>0.587360</td>\n",
       "      <td>0.002471</td>\n",
       "      <td>0.160114</td>\n",
       "      <td>-0.178211</td>\n",
       "      <td>0.109273</td>\n",
       "      <td>0.806457</td>\n",
       "      <td>...</td>\n",
       "      <td>-0.144279</td>\n",
       "      <td>-0.083543</td>\n",
       "      <td>0.019268</td>\n",
       "      <td>0.084665</td>\n",
       "      <td>-0.226002</td>\n",
       "      <td>0.515937</td>\n",
       "      <td>0.052837</td>\n",
       "      <td>-0.150240</td>\n",
       "      <td>-0.281126</td>\n",
       "      <td>0</td>\n",
       "    </tr>\n",
       "    <tr>\n",
       "      <th>8</th>\n",
       "      <td>-0.088471</td>\n",
       "      <td>0.644567</td>\n",
       "      <td>0.433162</td>\n",
       "      <td>-0.136737</td>\n",
       "      <td>-0.054831</td>\n",
       "      <td>-0.244218</td>\n",
       "      <td>-0.446411</td>\n",
       "      <td>-0.261631</td>\n",
       "      <td>-0.135061</td>\n",
       "      <td>-0.034967</td>\n",
       "      <td>...</td>\n",
       "      <td>-0.083642</td>\n",
       "      <td>-0.031550</td>\n",
       "      <td>0.398518</td>\n",
       "      <td>0.267720</td>\n",
       "      <td>0.407303</td>\n",
       "      <td>0.015141</td>\n",
       "      <td>0.560284</td>\n",
       "      <td>-0.186790</td>\n",
       "      <td>0.361624</td>\n",
       "      <td>1</td>\n",
       "    </tr>\n",
       "    <tr>\n",
       "      <th>9</th>\n",
       "      <td>0.208425</td>\n",
       "      <td>-0.087607</td>\n",
       "      <td>0.043846</td>\n",
       "      <td>-0.061058</td>\n",
       "      <td>0.195374</td>\n",
       "      <td>-0.315768</td>\n",
       "      <td>1.371756</td>\n",
       "      <td>1.371756</td>\n",
       "      <td>1.371756</td>\n",
       "      <td>1.371756</td>\n",
       "      <td>...</td>\n",
       "      <td>-0.388356</td>\n",
       "      <td>0.117444</td>\n",
       "      <td>1.145216</td>\n",
       "      <td>-0.255835</td>\n",
       "      <td>-0.328621</td>\n",
       "      <td>-0.177336</td>\n",
       "      <td>0.133318</td>\n",
       "      <td>-0.279935</td>\n",
       "      <td>-0.123262</td>\n",
       "      <td>2</td>\n",
       "    </tr>\n",
       "  </tbody>\n",
       "</table>\n",
       "<p>10 rows × 129 columns</p>\n",
       "</div>"
      ],
      "text/plain": [
       "          0         1         2         3         4         5         6  \\\n",
       "0  0.092276 -0.223990  0.147545 -0.431031 -0.304397  0.244396 -0.144781   \n",
       "1 -0.283450 -0.326020  0.330485  0.061099 -0.285491  0.085344  0.672175   \n",
       "2 -0.430795  0.155334 -0.721453 -0.102576 -0.332756  0.101725 -0.432919   \n",
       "3 -0.531494  0.103033  0.323408 -0.616874  0.179767 -0.111653 -0.180944   \n",
       "4 -0.153574 -0.087640 -0.240677 -0.202274 -0.115275  0.021871 -0.123556   \n",
       "5 -0.349061  0.419365 -0.230411  0.446621 -0.432607 -0.192926  0.581457   \n",
       "6  0.042369 -0.491693  0.432670  0.051966 -0.274385 -0.330518 -0.137227   \n",
       "7  0.764622 -0.202979 -0.149776  0.201866  0.587360  0.002471  0.160114   \n",
       "8 -0.088471  0.644567  0.433162 -0.136737 -0.054831 -0.244218 -0.446411   \n",
       "9  0.208425 -0.087607  0.043846 -0.061058  0.195374 -0.315768  1.371756   \n",
       "\n",
       "          7         8         9  ...       119       120       121       122  \\\n",
       "0  0.299219 -0.443211  0.259552  ... -1.504237 -1.504237  0.159724  0.265907   \n",
       "1 -0.043962 -0.177207  0.192364  ...  0.322911  0.009204 -0.179319 -0.047088   \n",
       "2  0.276727  0.386408  0.144596  ... -0.196227 -0.031192 -0.111958  0.115843   \n",
       "3 -0.181608  0.437917  0.117363  ...  1.683367  1.683367  1.683367  1.683367   \n",
       "4 -0.181116  0.062237 -0.127736  ...  0.965358 -0.691474 -0.332806 -0.125958   \n",
       "5  0.356121 -0.177010 -0.065259  ... -0.183541 -0.058119 -0.375052  0.055348   \n",
       "6 -0.424278  1.447462  1.447462  ...  0.406636 -0.342532 -0.068167  0.196201   \n",
       "7 -0.178211  0.109273  0.806457  ... -0.144279 -0.083543  0.019268  0.084665   \n",
       "8 -0.261631 -0.135061 -0.034967  ... -0.083642 -0.031550  0.398518  0.267720   \n",
       "9  1.371756  1.371756  1.371756  ... -0.388356  0.117444  1.145216 -0.255835   \n",
       "\n",
       "        123       124       125       126       127  cluster  \n",
       "0  0.138505 -0.334746 -0.544100 -0.184376  0.108490        0  \n",
       "1  0.298377 -0.164910  0.935590  0.092190 -0.401522        2  \n",
       "2  0.053130  0.114425 -0.096989  0.668431  0.049152        0  \n",
       "3  1.683367  1.683367  1.683367  1.683367 -0.162545        0  \n",
       "4 -0.390833  0.079431 -0.088307 -0.095284 -0.047731        0  \n",
       "5  0.066159 -0.315190  0.146058  0.025510 -0.061479        2  \n",
       "6 -0.063789 -0.357538 -0.036437 -0.277776  0.683957        0  \n",
       "7 -0.226002  0.515937  0.052837 -0.150240 -0.281126        0  \n",
       "8  0.407303  0.015141  0.560284 -0.186790  0.361624        1  \n",
       "9 -0.328621 -0.177336  0.133318 -0.279935 -0.123262        2  \n",
       "\n",
       "[10 rows x 129 columns]"
      ]
     },
     "execution_count": 91,
     "metadata": {},
     "output_type": "execute_result"
    }
   ],
   "source": [
    "data = pd.DataFrame(np.squeeze(X_test))\n",
    "data['cluster'] = y_pred\n",
    "data.head(10)"
   ]
  },
  {
   "cell_type": "markdown",
   "metadata": {},
   "source": [
    "- 첫번째 instance 벡터와의 dtw거리를 계산하여 '7.5'가 넘으면 cluster 2로 분류"
   ]
  },
  {
   "cell_type": "code",
   "execution_count": 92,
   "metadata": {},
   "outputs": [
    {
     "data": {
      "text/plain": [
       "(0.0, 0)"
      ]
     },
     "execution_count": 92,
     "metadata": {},
     "output_type": "execute_result"
    },
    {
     "data": {
      "text/plain": [
       "(7.564865477835785, 2)"
      ]
     },
     "execution_count": 92,
     "metadata": {},
     "output_type": "execute_result"
    },
    {
     "data": {
      "text/plain": [
       "(5.905339620755554, 0)"
      ]
     },
     "execution_count": 92,
     "metadata": {},
     "output_type": "execute_result"
    },
    {
     "data": {
      "text/plain": [
       "(6.39491986574684, 0)"
      ]
     },
     "execution_count": 92,
     "metadata": {},
     "output_type": "execute_result"
    },
    {
     "data": {
      "text/plain": [
       "(3.197223650779144, 0)"
      ]
     },
     "execution_count": 92,
     "metadata": {},
     "output_type": "execute_result"
    },
    {
     "data": {
      "text/plain": [
       "(7.603633133933423, 2)"
      ]
     },
     "execution_count": 92,
     "metadata": {},
     "output_type": "execute_result"
    },
    {
     "data": {
      "text/plain": [
       "(6.251602235938554, 0)"
      ]
     },
     "execution_count": 92,
     "metadata": {},
     "output_type": "execute_result"
    },
    {
     "data": {
      "text/plain": [
       "(6.066899296782613, 0)"
      ]
     },
     "execution_count": 92,
     "metadata": {},
     "output_type": "execute_result"
    },
    {
     "data": {
      "text/plain": [
       "(6.73834935440688, 1)"
      ]
     },
     "execution_count": 92,
     "metadata": {},
     "output_type": "execute_result"
    },
    {
     "data": {
      "text/plain": [
       "(7.276261554522157, 2)"
      ]
     },
     "execution_count": 92,
     "metadata": {},
     "output_type": "execute_result"
    }
   ],
   "source": [
    "for i, j in zip([dtw(data.iloc[0,:-1], data.iloc[i,:-1]) for i in range(10)], data['cluster'][0:10]):\n",
    "    (i, j)"
   ]
  },
  {
   "cell_type": "markdown",
   "metadata": {},
   "source": [
    "## 4. Practice to get started\n",
    "- https://github.com/tslearn-team/tslearn/\n",
    "\n",
    "### 4.1. Getting the data in the right format\n",
    "- It should further be noted that tslearn supports variable-length timeseries."
   ]
  },
  {
   "cell_type": "code",
   "execution_count": 103,
   "metadata": {},
   "outputs": [
    {
     "data": {
      "text/plain": [
       "array([[[ 1.],\n",
       "        [ 3.],\n",
       "        [ 4.],\n",
       "        [ 2.],\n",
       "        [nan]],\n",
       "\n",
       "       [[ 1.],\n",
       "        [ 2.],\n",
       "        [ 4.],\n",
       "        [ 2.],\n",
       "        [nan]],\n",
       "\n",
       "       [[ 1.],\n",
       "        [ 2.],\n",
       "        [ 4.],\n",
       "        [ 2.],\n",
       "        [ 2.]]])"
      ]
     },
     "execution_count": 103,
     "metadata": {},
     "output_type": "execute_result"
    }
   ],
   "source": [
    "my_first_time_series = [1, 3, 4, 2]\n",
    "my_second_time_series = [1, 2, 4, 2]\n",
    "my_third_time_series = [1, 2, 4, 2, 2]\n",
    "X = to_time_series_dataset([my_first_time_series,\n",
    "                            my_second_time_series,\n",
    "                            my_third_time_series])\n",
    "y = [0, 1, 1]\n",
    "X"
   ]
  },
  {
   "cell_type": "markdown",
   "metadata": {},
   "source": [
    "### 4.2. Data preprocessing and transformations\n",
    "Optionally, tslearn has several utilities to preprocess the data. In order to facilitate the convergence of different algorithms, you can scale time series. Alternatively, in order to speed up training times, one can resample the data or apply a piece-wise transformation."
   ]
  },
  {
   "cell_type": "code",
   "execution_count": 29,
   "metadata": {},
   "outputs": [
    {
     "name": "stdout",
     "output_type": "stream",
     "text": [
      "[[[0.        ]\n",
      "  [0.66666667]\n",
      "  [1.        ]\n",
      "  [0.33333333]\n",
      "  [       nan]]\n",
      "\n",
      " [[0.        ]\n",
      "  [0.33333333]\n",
      "  [1.        ]\n",
      "  [0.33333333]\n",
      "  [       nan]]\n",
      "\n",
      " [[0.        ]\n",
      "  [0.33333333]\n",
      "  [1.        ]\n",
      "  [0.33333333]\n",
      "  [0.33333333]]]\n"
     ]
    }
   ],
   "source": [
    "from tslearn.preprocessing import TimeSeriesScalerMinMax\n",
    "X_scaled = TimeSeriesScalerMinMax().fit_transform(X)\n",
    "print(X_scaled)"
   ]
  },
  {
   "cell_type": "markdown",
   "metadata": {},
   "source": [
    "### 4.3. Training a model\n",
    "After getting the data in the right format, a model can be trained. Depending on the use case, tslearn supports different tasks: classification, clustering and regression.\n",
    "- https://tslearn.readthedocs.io/en/stable/variablelength.html#classification"
   ]
  },
  {
   "cell_type": "code",
   "execution_count": 30,
   "metadata": {},
   "outputs": [
    {
     "data": {
      "text/plain": [
       "KNeighborsTimeSeriesClassifier(n_neighbors=1)"
      ]
     },
     "execution_count": 30,
     "metadata": {},
     "output_type": "execute_result"
    },
    {
     "name": "stdout",
     "output_type": "stream",
     "text": [
      "[0 1 1]\n"
     ]
    }
   ],
   "source": [
    "from tslearn.neighbors import KNeighborsTimeSeriesClassifier\n",
    "knn = KNeighborsTimeSeriesClassifier(n_neighbors=1)\n",
    "knn.fit(X_scaled, y)\n",
    "print(knn.predict(X_scaled))"
   ]
  },
  {
   "cell_type": "markdown",
   "metadata": {},
   "source": [
    "### 4.4. Integration with scikit-learn"
   ]
  },
  {
   "cell_type": "code",
   "execution_count": 93,
   "metadata": {
    "scrolled": true
   },
   "outputs": [
    {
     "data": {
      "text/plain": [
       "array([[ 1.,  2., nan],\n",
       "       [ 1.,  4.,  3.]])"
      ]
     },
     "execution_count": 93,
     "metadata": {},
     "output_type": "execute_result"
    },
    {
     "data": {
      "text/plain": [
       "array([[[ 1.],\n",
       "        [ 2.],\n",
       "        [nan]],\n",
       "\n",
       "       [[ 1.],\n",
       "        [ 4.],\n",
       "        [ 3.]]])"
      ]
     },
     "execution_count": 93,
     "metadata": {},
     "output_type": "execute_result"
    }
   ],
   "source": [
    "from tslearn.utils import to_sklearn_dataset\n",
    "to_sklearn_dataset([[1, 2], [1, 4, 3]])\n",
    "to_time_series_dataset([[ 1.,  2., None], [ 1.,  4.,  3.]])"
   ]
  },
  {
   "cell_type": "code",
   "execution_count": 112,
   "metadata": {},
   "outputs": [
    {
     "data": {
      "text/plain": [
       "array([[ 0.2303793 ,  0.49096649,  0.35883306, ...,  0.21074476,\n",
       "        -0.25542933, -0.27894241],\n",
       "       [ 0.00076522, -0.34267997,  0.18872921, ..., -0.64269981,\n",
       "        -0.12149454,  0.52589527],\n",
       "       [ 0.17044215, -0.01886377,  0.4024516 , ..., -0.22051709,\n",
       "         0.25796549,  0.66266508],\n",
       "       ...,\n",
       "       [-0.35998444,  0.22577919,  0.01796405, ...,  0.37429672,\n",
       "         0.4160218 , -0.27336748],\n",
       "       [ 0.24685978, -0.33697087, -0.3712872 , ...,  0.0684051 ,\n",
       "         0.09142212,  0.42766655],\n",
       "       [-0.31033582, -0.24524647, -0.30000574, ...,  0.3907156 ,\n",
       "        -0.15506771,  0.6423072 ]])"
      ]
     },
     "execution_count": 112,
     "metadata": {},
     "output_type": "execute_result"
    },
    {
     "data": {
      "text/plain": [
       "array([[ 0.2303793 ,  0.49096649,  0.35883306, ...,  0.21074476,\n",
       "        -0.25542933, -0.27894241],\n",
       "       [ 0.00076522, -0.34267997,  0.18872921, ..., -0.64269981,\n",
       "        -0.12149454,  0.52589527],\n",
       "       [ 0.17044215, -0.01886377,  0.4024516 , ..., -0.22051709,\n",
       "         0.25796549,  0.66266508],\n",
       "       ...,\n",
       "       [-0.35998444,  0.22577919,  0.01796405, ...,  0.37429672,\n",
       "         0.4160218 , -0.27336748],\n",
       "       [ 0.24685978, -0.33697087, -0.3712872 , ...,  0.0684051 ,\n",
       "         0.09142212,  0.42766655],\n",
       "       [-0.31033582, -0.24524647, -0.30000574, ...,  0.3907156 ,\n",
       "        -0.15506771,  0.6423072 ]])"
      ]
     },
     "execution_count": 112,
     "metadata": {},
     "output_type": "execute_result"
    }
   ],
   "source": [
    "np.squeeze(X_train)\n",
    "to_sklearn_dataset(X_train)"
   ]
  },
  {
   "cell_type": "code",
   "execution_count": 113,
   "metadata": {
    "scrolled": true
   },
   "outputs": [
    {
     "data": {
      "text/plain": [
       "array([[ 1.,  3.,  4.,  2., nan],\n",
       "       [ 1.,  2.,  4.,  2., nan],\n",
       "       [ 1.,  2.,  4.,  2.,  2.]])"
      ]
     },
     "execution_count": 113,
     "metadata": {},
     "output_type": "execute_result"
    },
    {
     "data": {
      "text/plain": [
       "array([[ 1.,  3.,  4.,  2., nan],\n",
       "       [ 1.,  2.,  4.,  2., nan],\n",
       "       [ 1.,  2.,  4.,  2.,  2.]])"
      ]
     },
     "execution_count": 113,
     "metadata": {},
     "output_type": "execute_result"
    }
   ],
   "source": [
    "np.squeeze(X)\n",
    "to_sklearn_dataset(X)"
   ]
  },
  {
   "cell_type": "markdown",
   "metadata": {},
   "source": [
    "### 4.5. Integration with scikit-learn"
   ]
  },
  {
   "cell_type": "code",
   "execution_count": 117,
   "metadata": {
    "scrolled": true
   },
   "outputs": [
    {
     "data": {
      "text/plain": [
       "array([[[ 1.],\n",
       "        [ 2.],\n",
       "        [nan]],\n",
       "\n",
       "       [[ 1.],\n",
       "        [ 4.],\n",
       "        [ 3.]]])"
      ]
     },
     "execution_count": 117,
     "metadata": {},
     "output_type": "execute_result"
    },
    {
     "data": {
      "text/plain": [
       "(2, 3, 1)"
      ]
     },
     "execution_count": 117,
     "metadata": {},
     "output_type": "execute_result"
    }
   ],
   "source": [
    "from tslearn.utils import from_sktime_dataset, to_sktime_dataset\n",
    "df = pd.DataFrame()\n",
    "df[\"dim_0\"] = [pd.Series([1, 2]), pd.Series([1, 4, 3])]\n",
    "from_sktime_dataset(df)\n",
    "from_sktime_dataset(df).shape"
   ]
  },
  {
   "cell_type": "code",
   "execution_count": 118,
   "metadata": {
    "scrolled": true
   },
   "outputs": [
    {
     "data": {
      "text/html": [
       "<div>\n",
       "<style scoped>\n",
       "    .dataframe tbody tr th:only-of-type {\n",
       "        vertical-align: middle;\n",
       "    }\n",
       "\n",
       "    .dataframe tbody tr th {\n",
       "        vertical-align: top;\n",
       "    }\n",
       "\n",
       "    .dataframe thead th {\n",
       "        text-align: right;\n",
       "    }\n",
       "</style>\n",
       "<table border=\"1\" class=\"dataframe\">\n",
       "  <thead>\n",
       "    <tr style=\"text-align: right;\">\n",
       "      <th></th>\n",
       "      <th>dim_0</th>\n",
       "    </tr>\n",
       "  </thead>\n",
       "  <tbody>\n",
       "    <tr>\n",
       "      <th>0</th>\n",
       "      <td>0    1.0\n",
       "1    2.0\n",
       "dtype: float64</td>\n",
       "    </tr>\n",
       "    <tr>\n",
       "      <th>1</th>\n",
       "      <td>0    1.0\n",
       "1    4.0\n",
       "2    3.0\n",
       "dtype: float64</td>\n",
       "    </tr>\n",
       "  </tbody>\n",
       "</table>\n",
       "</div>"
      ],
      "text/plain": [
       "                                       dim_0\n",
       "0           0    1.0\n",
       "1    2.0\n",
       "dtype: float64\n",
       "1  0    1.0\n",
       "1    4.0\n",
       "2    3.0\n",
       "dtype: float64"
      ]
     },
     "execution_count": 118,
     "metadata": {},
     "output_type": "execute_result"
    },
    {
     "data": {
      "text/plain": [
       "(2, 1)"
      ]
     },
     "execution_count": 118,
     "metadata": {},
     "output_type": "execute_result"
    }
   ],
   "source": [
    "to_sktime_dataset([[[1], [2], [None]], [[1], [4], [3]]])\n",
    "to_sktime_dataset([[[1], [2], [None]], [[1], [4], [3]]]).shape"
   ]
  },
  {
   "cell_type": "markdown",
   "metadata": {},
   "source": [
    "# End"
   ]
  },
  {
   "cell_type": "code",
   "execution_count": null,
   "metadata": {},
   "outputs": [],
   "source": []
  }
 ],
 "metadata": {
  "kernelspec": {
   "display_name": "Python 3",
   "language": "python",
   "name": "python3"
  },
  "language_info": {
   "codemirror_mode": {
    "name": "ipython",
    "version": 3
   },
   "file_extension": ".py",
   "mimetype": "text/x-python",
   "name": "python",
   "nbconvert_exporter": "python",
   "pygments_lexer": "ipython3",
   "version": "3.8.8"
  }
 },
 "nbformat": 4,
 "nbformat_minor": 4
}
