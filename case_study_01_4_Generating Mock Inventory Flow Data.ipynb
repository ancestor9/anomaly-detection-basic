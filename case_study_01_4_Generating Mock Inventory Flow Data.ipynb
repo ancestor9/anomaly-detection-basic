{
 "cells": [
  {
   "cell_type": "markdown",
   "metadata": {
    "_cell_guid": "7f08e976-bc33-427d-afb1-00f1d543e7df",
    "_uuid": "0edf7f17f7638e1ec142f09f5aa71b568bc115be"
   },
   "source": [
    "# Generating Mock Inventory Flow Data"
   ]
  },
  {
   "cell_type": "code",
   "execution_count": 1,
   "metadata": {},
   "outputs": [
    {
     "data": {
      "text/html": [
       "<style>.container { width:100% !important; }</style>"
      ],
      "text/plain": [
       "<IPython.core.display.HTML object>"
      ]
     },
     "metadata": {},
     "output_type": "display_data"
    }
   ],
   "source": [
    "from IPython.core.display import display, HTML\n",
    "display(HTML(\"<style>.container { width:100% !important; }</style>\"))\n",
    "from IPython.core.interactiveshell import InteractiveShell\n",
    "InteractiveShell.ast_node_interactivity = 'all'\n",
    "import warnings\n",
    "warnings.filterwarnings('ignore')"
   ]
  },
  {
   "cell_type": "code",
   "execution_count": 3,
   "metadata": {
    "_cell_guid": "b1076dfc-b9ad-4769-8c92-a6c4dae69d19",
    "_uuid": "8f2839f25d086af736a60e9eeb907d3b93b6e0e5"
   },
   "outputs": [],
   "source": [
    "import numpy as np # linear algebra\n",
    "import pandas as pd # data processing, CSV file I/O (e.g. pd.read_csv)\n",
    "import matplotlib.pyplot as plt\n",
    "import seaborn as sns"
   ]
  },
  {
   "cell_type": "markdown",
   "metadata": {
    "_cell_guid": "e3dafb30-ba01-463c-ae03-fbabd919aa18",
    "_uuid": "af5bac8c4e4b6361db8a0291aedeb22db3364ba1",
    "collapsed": true
   },
   "source": [
    "\n"
   ]
  },
  {
   "cell_type": "code",
   "execution_count": 4,
   "metadata": {},
   "outputs": [],
   "source": [
    "from random import shuffle"
   ]
  },
  {
   "cell_type": "code",
   "execution_count": 7,
   "metadata": {},
   "outputs": [],
   "source": [
    "store_codes = np.arange(1,10)\n",
    "product_codes = np.arange(1,101)\n",
    "date_range = pd.date_range(start = \"2019-01-01\", end = \"2020-12-31\", freq=\"D\")\n",
    "index = pd.MultiIndex.from_product(\n",
    "   [date_range, store_codes, product_codes],\n",
    "   names = [\"Date\", \"StoreCode\", \"ProductCode\"]\n",
    ")"
   ]
  },
  {
   "cell_type": "code",
   "execution_count": 9,
   "metadata": {},
   "outputs": [
    {
     "data": {
      "text/html": [
       "<div>\n",
       "<style scoped>\n",
       "    .dataframe tbody tr th:only-of-type {\n",
       "        vertical-align: middle;\n",
       "    }\n",
       "\n",
       "    .dataframe tbody tr th {\n",
       "        vertical-align: top;\n",
       "    }\n",
       "\n",
       "    .dataframe thead th {\n",
       "        text-align: right;\n",
       "    }\n",
       "</style>\n",
       "<table border=\"1\" class=\"dataframe\">\n",
       "  <thead>\n",
       "    <tr style=\"text-align: right;\">\n",
       "      <th></th>\n",
       "      <th></th>\n",
       "      <th></th>\n",
       "    </tr>\n",
       "    <tr>\n",
       "      <th>Date</th>\n",
       "      <th>StoreCode</th>\n",
       "      <th>ProductCode</th>\n",
       "    </tr>\n",
       "  </thead>\n",
       "  <tbody>\n",
       "    <tr>\n",
       "      <th rowspan=\"5\" valign=\"top\">2019-01-01</th>\n",
       "      <th rowspan=\"5\" valign=\"top\">1</th>\n",
       "      <th>1</th>\n",
       "    </tr>\n",
       "    <tr>\n",
       "      <th>2</th>\n",
       "    </tr>\n",
       "    <tr>\n",
       "      <th>3</th>\n",
       "    </tr>\n",
       "    <tr>\n",
       "      <th>4</th>\n",
       "    </tr>\n",
       "    <tr>\n",
       "      <th>5</th>\n",
       "    </tr>\n",
       "    <tr>\n",
       "      <th>...</th>\n",
       "      <th>...</th>\n",
       "      <th>...</th>\n",
       "    </tr>\n",
       "    <tr>\n",
       "      <th rowspan=\"5\" valign=\"top\">2020-12-31</th>\n",
       "      <th rowspan=\"5\" valign=\"top\">9</th>\n",
       "      <th>96</th>\n",
       "    </tr>\n",
       "    <tr>\n",
       "      <th>97</th>\n",
       "    </tr>\n",
       "    <tr>\n",
       "      <th>98</th>\n",
       "    </tr>\n",
       "    <tr>\n",
       "      <th>99</th>\n",
       "    </tr>\n",
       "    <tr>\n",
       "      <th>100</th>\n",
       "    </tr>\n",
       "  </tbody>\n",
       "</table>\n",
       "<p>657900 rows × 0 columns</p>\n",
       "</div>"
      ],
      "text/plain": [
       "Empty DataFrame\n",
       "Columns: []\n",
       "Index: [(2019-01-01 00:00:00, 1, 1), (2019-01-01 00:00:00, 1, 2), (2019-01-01 00:00:00, 1, 3), (2019-01-01 00:00:00, 1, 4), (2019-01-01 00:00:00, 1, 5), (2019-01-01 00:00:00, 1, 6), (2019-01-01 00:00:00, 1, 7), (2019-01-01 00:00:00, 1, 8), (2019-01-01 00:00:00, 1, 9), (2019-01-01 00:00:00, 1, 10), (2019-01-01 00:00:00, 1, 11), (2019-01-01 00:00:00, 1, 12), (2019-01-01 00:00:00, 1, 13), (2019-01-01 00:00:00, 1, 14), (2019-01-01 00:00:00, 1, 15), (2019-01-01 00:00:00, 1, 16), (2019-01-01 00:00:00, 1, 17), (2019-01-01 00:00:00, 1, 18), (2019-01-01 00:00:00, 1, 19), (2019-01-01 00:00:00, 1, 20), (2019-01-01 00:00:00, 1, 21), (2019-01-01 00:00:00, 1, 22), (2019-01-01 00:00:00, 1, 23), (2019-01-01 00:00:00, 1, 24), (2019-01-01 00:00:00, 1, 25), (2019-01-01 00:00:00, 1, 26), (2019-01-01 00:00:00, 1, 27), (2019-01-01 00:00:00, 1, 28), (2019-01-01 00:00:00, 1, 29), (2019-01-01 00:00:00, 1, 30), (2019-01-01 00:00:00, 1, 31), (2019-01-01 00:00:00, 1, 32), (2019-01-01 00:00:00, 1, 33), (2019-01-01 00:00:00, 1, 34), (2019-01-01 00:00:00, 1, 35), (2019-01-01 00:00:00, 1, 36), (2019-01-01 00:00:00, 1, 37), (2019-01-01 00:00:00, 1, 38), (2019-01-01 00:00:00, 1, 39), (2019-01-01 00:00:00, 1, 40), (2019-01-01 00:00:00, 1, 41), (2019-01-01 00:00:00, 1, 42), (2019-01-01 00:00:00, 1, 43), (2019-01-01 00:00:00, 1, 44), (2019-01-01 00:00:00, 1, 45), (2019-01-01 00:00:00, 1, 46), (2019-01-01 00:00:00, 1, 47), (2019-01-01 00:00:00, 1, 48), (2019-01-01 00:00:00, 1, 49), (2019-01-01 00:00:00, 1, 50), (2019-01-01 00:00:00, 1, 51), (2019-01-01 00:00:00, 1, 52), (2019-01-01 00:00:00, 1, 53), (2019-01-01 00:00:00, 1, 54), (2019-01-01 00:00:00, 1, 55), (2019-01-01 00:00:00, 1, 56), (2019-01-01 00:00:00, 1, 57), (2019-01-01 00:00:00, 1, 58), (2019-01-01 00:00:00, 1, 59), (2019-01-01 00:00:00, 1, 60), (2019-01-01 00:00:00, 1, 61), (2019-01-01 00:00:00, 1, 62), (2019-01-01 00:00:00, 1, 63), (2019-01-01 00:00:00, 1, 64), (2019-01-01 00:00:00, 1, 65), (2019-01-01 00:00:00, 1, 66), (2019-01-01 00:00:00, 1, 67), (2019-01-01 00:00:00, 1, 68), (2019-01-01 00:00:00, 1, 69), (2019-01-01 00:00:00, 1, 70), (2019-01-01 00:00:00, 1, 71), (2019-01-01 00:00:00, 1, 72), (2019-01-01 00:00:00, 1, 73), (2019-01-01 00:00:00, 1, 74), (2019-01-01 00:00:00, 1, 75), (2019-01-01 00:00:00, 1, 76), (2019-01-01 00:00:00, 1, 77), (2019-01-01 00:00:00, 1, 78), (2019-01-01 00:00:00, 1, 79), (2019-01-01 00:00:00, 1, 80), (2019-01-01 00:00:00, 1, 81), (2019-01-01 00:00:00, 1, 82), (2019-01-01 00:00:00, 1, 83), (2019-01-01 00:00:00, 1, 84), (2019-01-01 00:00:00, 1, 85), (2019-01-01 00:00:00, 1, 86), (2019-01-01 00:00:00, 1, 87), (2019-01-01 00:00:00, 1, 88), (2019-01-01 00:00:00, 1, 89), (2019-01-01 00:00:00, 1, 90), (2019-01-01 00:00:00, 1, 91), (2019-01-01 00:00:00, 1, 92), (2019-01-01 00:00:00, 1, 93), (2019-01-01 00:00:00, 1, 94), (2019-01-01 00:00:00, 1, 95), (2019-01-01 00:00:00, 1, 96), (2019-01-01 00:00:00, 1, 97), (2019-01-01 00:00:00, 1, 98), (2019-01-01 00:00:00, 1, 99), (2019-01-01 00:00:00, 1, 100), ...]\n",
       "\n",
       "[657900 rows x 0 columns]"
      ]
     },
     "execution_count": 9,
     "metadata": {},
     "output_type": "execute_result"
    }
   ],
   "source": [
    "sales = pd.DataFrame(index = index)\n",
    "sales"
   ]
  },
  {
   "cell_type": "code",
   "execution_count": 10,
   "metadata": {},
   "outputs": [
    {
     "data": {
      "text/html": [
       "<div>\n",
       "<style scoped>\n",
       "    .dataframe tbody tr th:only-of-type {\n",
       "        vertical-align: middle;\n",
       "    }\n",
       "\n",
       "    .dataframe tbody tr th {\n",
       "        vertical-align: top;\n",
       "    }\n",
       "\n",
       "    .dataframe thead th {\n",
       "        text-align: right;\n",
       "    }\n",
       "</style>\n",
       "<table border=\"1\" class=\"dataframe\">\n",
       "  <thead>\n",
       "    <tr style=\"text-align: right;\">\n",
       "      <th></th>\n",
       "      <th>Date</th>\n",
       "      <th>StoreCode</th>\n",
       "      <th>ProductCode</th>\n",
       "    </tr>\n",
       "  </thead>\n",
       "  <tbody>\n",
       "    <tr>\n",
       "      <th>0</th>\n",
       "      <td>2019-01-01</td>\n",
       "      <td>1</td>\n",
       "      <td>1</td>\n",
       "    </tr>\n",
       "    <tr>\n",
       "      <th>1</th>\n",
       "      <td>2019-01-01</td>\n",
       "      <td>1</td>\n",
       "      <td>2</td>\n",
       "    </tr>\n",
       "    <tr>\n",
       "      <th>2</th>\n",
       "      <td>2019-01-01</td>\n",
       "      <td>1</td>\n",
       "      <td>3</td>\n",
       "    </tr>\n",
       "    <tr>\n",
       "      <th>3</th>\n",
       "      <td>2019-01-01</td>\n",
       "      <td>1</td>\n",
       "      <td>4</td>\n",
       "    </tr>\n",
       "    <tr>\n",
       "      <th>4</th>\n",
       "      <td>2019-01-01</td>\n",
       "      <td>1</td>\n",
       "      <td>5</td>\n",
       "    </tr>\n",
       "  </tbody>\n",
       "</table>\n",
       "</div>"
      ],
      "text/plain": [
       "        Date  StoreCode  ProductCode\n",
       "0 2019-01-01          1            1\n",
       "1 2019-01-01          1            2\n",
       "2 2019-01-01          1            3\n",
       "3 2019-01-01          1            4\n",
       "4 2019-01-01          1            5"
      ]
     },
     "execution_count": 10,
     "metadata": {},
     "output_type": "execute_result"
    }
   ],
   "source": [
    "sales.reset_index(inplace=True)\n",
    "sales.head()"
   ]
  },
  {
   "cell_type": "code",
   "execution_count": 12,
   "metadata": {},
   "outputs": [
    {
     "data": {
      "text/plain": [
       "True"
      ]
     },
     "execution_count": 12,
     "metadata": {},
     "output_type": "execute_result"
    },
    {
     "data": {
      "text/plain": [
       "657900"
      ]
     },
     "execution_count": 12,
     "metadata": {},
     "output_type": "execute_result"
    },
    {
     "data": {
      "text/plain": [
       "657900"
      ]
     },
     "execution_count": 12,
     "metadata": {},
     "output_type": "execute_result"
    }
   ],
   "source": [
    "len(sales) == len(store_codes) * len(product_codes) * len(date_range)\n",
    "len(sales)\n",
    "657900"
   ]
  },
  {
   "cell_type": "code",
   "execution_count": 14,
   "metadata": {},
   "outputs": [
    {
     "data": {
      "text/html": [
       "<div>\n",
       "<style scoped>\n",
       "    .dataframe tbody tr th:only-of-type {\n",
       "        vertical-align: middle;\n",
       "    }\n",
       "\n",
       "    .dataframe tbody tr th {\n",
       "        vertical-align: top;\n",
       "    }\n",
       "\n",
       "    .dataframe thead th {\n",
       "        text-align: right;\n",
       "    }\n",
       "</style>\n",
       "<table border=\"1\" class=\"dataframe\">\n",
       "  <thead>\n",
       "    <tr style=\"text-align: right;\">\n",
       "      <th></th>\n",
       "      <th>StoreCode</th>\n",
       "      <th>StoreGroup</th>\n",
       "    </tr>\n",
       "  </thead>\n",
       "  <tbody>\n",
       "    <tr>\n",
       "      <th>0</th>\n",
       "      <td>1</td>\n",
       "      <td>Large</td>\n",
       "    </tr>\n",
       "    <tr>\n",
       "      <th>1</th>\n",
       "      <td>2</td>\n",
       "      <td>Large</td>\n",
       "    </tr>\n",
       "    <tr>\n",
       "      <th>2</th>\n",
       "      <td>3</td>\n",
       "      <td>Medium</td>\n",
       "    </tr>\n",
       "    <tr>\n",
       "      <th>3</th>\n",
       "      <td>4</td>\n",
       "      <td>Medium</td>\n",
       "    </tr>\n",
       "    <tr>\n",
       "      <th>4</th>\n",
       "      <td>5</td>\n",
       "      <td>Small</td>\n",
       "    </tr>\n",
       "    <tr>\n",
       "      <th>5</th>\n",
       "      <td>6</td>\n",
       "      <td>Small</td>\n",
       "    </tr>\n",
       "    <tr>\n",
       "      <th>6</th>\n",
       "      <td>7</td>\n",
       "      <td>Small</td>\n",
       "    </tr>\n",
       "    <tr>\n",
       "      <th>7</th>\n",
       "      <td>8</td>\n",
       "      <td>Large</td>\n",
       "    </tr>\n",
       "    <tr>\n",
       "      <th>8</th>\n",
       "      <td>9</td>\n",
       "      <td>Medium</td>\n",
       "    </tr>\n",
       "  </tbody>\n",
       "</table>\n",
       "</div>"
      ],
      "text/plain": [
       "   StoreCode StoreGroup\n",
       "0          1      Large\n",
       "1          2      Large\n",
       "2          3     Medium\n",
       "3          4     Medium\n",
       "4          5      Small\n",
       "5          6      Small\n",
       "6          7      Small\n",
       "7          8      Large\n",
       "8          9     Medium"
      ]
     },
     "execution_count": 14,
     "metadata": {},
     "output_type": "execute_result"
    }
   ],
   "source": [
    "store_groups = [\"Small\",\"Medium\",\"Large\"]*3\n",
    "shuffle(store_groups)\n",
    "stores = pd.DataFrame({\n",
    "   \"StoreCode\": store_codes,\n",
    "   \"StoreGroup\": store_groups\n",
    "})\n",
    "stores"
   ]
  },
  {
   "cell_type": "code",
   "execution_count": 15,
   "metadata": {},
   "outputs": [
    {
     "data": {
      "text/html": [
       "<div>\n",
       "<style scoped>\n",
       "    .dataframe tbody tr th:only-of-type {\n",
       "        vertical-align: middle;\n",
       "    }\n",
       "\n",
       "    .dataframe tbody tr th {\n",
       "        vertical-align: top;\n",
       "    }\n",
       "\n",
       "    .dataframe thead th {\n",
       "        text-align: right;\n",
       "    }\n",
       "</style>\n",
       "<table border=\"1\" class=\"dataframe\">\n",
       "  <thead>\n",
       "    <tr style=\"text-align: right;\">\n",
       "      <th></th>\n",
       "      <th>ProductCode</th>\n",
       "      <th>ProductGroup</th>\n",
       "    </tr>\n",
       "  </thead>\n",
       "  <tbody>\n",
       "    <tr>\n",
       "      <th>0</th>\n",
       "      <td>1</td>\n",
       "      <td>A</td>\n",
       "    </tr>\n",
       "    <tr>\n",
       "      <th>1</th>\n",
       "      <td>2</td>\n",
       "      <td>D</td>\n",
       "    </tr>\n",
       "    <tr>\n",
       "      <th>2</th>\n",
       "      <td>3</td>\n",
       "      <td>A</td>\n",
       "    </tr>\n",
       "    <tr>\n",
       "      <th>3</th>\n",
       "      <td>4</td>\n",
       "      <td>C</td>\n",
       "    </tr>\n",
       "    <tr>\n",
       "      <th>4</th>\n",
       "      <td>5</td>\n",
       "      <td>A</td>\n",
       "    </tr>\n",
       "  </tbody>\n",
       "</table>\n",
       "</div>"
      ],
      "text/plain": [
       "   ProductCode ProductGroup\n",
       "0            1            A\n",
       "1            2            D\n",
       "2            3            A\n",
       "3            4            C\n",
       "4            5            A"
      ]
     },
     "execution_count": 15,
     "metadata": {},
     "output_type": "execute_result"
    }
   ],
   "source": [
    "product_groups = [\"A\",\"B\",\"C\",\"D\"] * 25\n",
    "shuffle(product_groups)\n",
    "products = pd.DataFrame({\n",
    "   \"ProductCode\": product_codes,\n",
    "   \"ProductGroup\": product_groups\n",
    "})\n",
    "products.head()"
   ]
  },
  {
   "cell_type": "code",
   "execution_count": 16,
   "metadata": {},
   "outputs": [
    {
     "data": {
      "text/html": [
       "<div>\n",
       "<style scoped>\n",
       "    .dataframe tbody tr th:only-of-type {\n",
       "        vertical-align: middle;\n",
       "    }\n",
       "\n",
       "    .dataframe tbody tr th {\n",
       "        vertical-align: top;\n",
       "    }\n",
       "\n",
       "    .dataframe thead th {\n",
       "        text-align: right;\n",
       "    }\n",
       "</style>\n",
       "<table border=\"1\" class=\"dataframe\">\n",
       "  <thead>\n",
       "    <tr style=\"text-align: right;\">\n",
       "      <th></th>\n",
       "      <th>Date</th>\n",
       "      <th>StoreCode</th>\n",
       "      <th>ProductCode</th>\n",
       "      <th>StoreGroup</th>\n",
       "      <th>ProductGroup</th>\n",
       "    </tr>\n",
       "  </thead>\n",
       "  <tbody>\n",
       "    <tr>\n",
       "      <th>0</th>\n",
       "      <td>2019-01-01</td>\n",
       "      <td>1</td>\n",
       "      <td>1</td>\n",
       "      <td>Large</td>\n",
       "      <td>A</td>\n",
       "    </tr>\n",
       "    <tr>\n",
       "      <th>1</th>\n",
       "      <td>2019-01-01</td>\n",
       "      <td>1</td>\n",
       "      <td>2</td>\n",
       "      <td>Large</td>\n",
       "      <td>D</td>\n",
       "    </tr>\n",
       "    <tr>\n",
       "      <th>2</th>\n",
       "      <td>2019-01-01</td>\n",
       "      <td>1</td>\n",
       "      <td>3</td>\n",
       "      <td>Large</td>\n",
       "      <td>A</td>\n",
       "    </tr>\n",
       "    <tr>\n",
       "      <th>3</th>\n",
       "      <td>2019-01-01</td>\n",
       "      <td>1</td>\n",
       "      <td>4</td>\n",
       "      <td>Large</td>\n",
       "      <td>C</td>\n",
       "    </tr>\n",
       "    <tr>\n",
       "      <th>4</th>\n",
       "      <td>2019-01-01</td>\n",
       "      <td>1</td>\n",
       "      <td>5</td>\n",
       "      <td>Large</td>\n",
       "      <td>A</td>\n",
       "    </tr>\n",
       "  </tbody>\n",
       "</table>\n",
       "</div>"
      ],
      "text/plain": [
       "        Date  StoreCode  ProductCode StoreGroup ProductGroup\n",
       "0 2019-01-01          1            1      Large            A\n",
       "1 2019-01-01          1            2      Large            D\n",
       "2 2019-01-01          1            3      Large            A\n",
       "3 2019-01-01          1            4      Large            C\n",
       "4 2019-01-01          1            5      Large            A"
      ]
     },
     "execution_count": 16,
     "metadata": {},
     "output_type": "execute_result"
    }
   ],
   "source": [
    "sales = pd.merge(sales, stores, on=\"StoreCode\", how=\"left\")\n",
    "sales = pd.merge(sales, products, on=\"ProductCode\", how=\"left\")\n",
    "sales.head()"
   ]
  },
  {
   "cell_type": "code",
   "execution_count": 17,
   "metadata": {},
   "outputs": [
    {
     "data": {
      "text/html": [
       "<div>\n",
       "<style scoped>\n",
       "    .dataframe tbody tr th:only-of-type {\n",
       "        vertical-align: middle;\n",
       "    }\n",
       "\n",
       "    .dataframe tbody tr th {\n",
       "        vertical-align: top;\n",
       "    }\n",
       "\n",
       "    .dataframe thead th {\n",
       "        text-align: right;\n",
       "    }\n",
       "</style>\n",
       "<table border=\"1\" class=\"dataframe\">\n",
       "  <thead>\n",
       "    <tr style=\"text-align: right;\">\n",
       "      <th></th>\n",
       "      <th>Date</th>\n",
       "      <th>StoreCode</th>\n",
       "      <th>ProductCode</th>\n",
       "      <th>StoreGroup</th>\n",
       "      <th>ProductGroup</th>\n",
       "      <th>SalesAmount</th>\n",
       "    </tr>\n",
       "  </thead>\n",
       "  <tbody>\n",
       "    <tr>\n",
       "      <th>0</th>\n",
       "      <td>2019-01-01</td>\n",
       "      <td>1</td>\n",
       "      <td>1</td>\n",
       "      <td>Large</td>\n",
       "      <td>A</td>\n",
       "      <td>18</td>\n",
       "    </tr>\n",
       "    <tr>\n",
       "      <th>1</th>\n",
       "      <td>2019-01-01</td>\n",
       "      <td>1</td>\n",
       "      <td>2</td>\n",
       "      <td>Large</td>\n",
       "      <td>D</td>\n",
       "      <td>21</td>\n",
       "    </tr>\n",
       "    <tr>\n",
       "      <th>2</th>\n",
       "      <td>2019-01-01</td>\n",
       "      <td>1</td>\n",
       "      <td>3</td>\n",
       "      <td>Large</td>\n",
       "      <td>A</td>\n",
       "      <td>3</td>\n",
       "    </tr>\n",
       "    <tr>\n",
       "      <th>3</th>\n",
       "      <td>2019-01-01</td>\n",
       "      <td>1</td>\n",
       "      <td>4</td>\n",
       "      <td>Large</td>\n",
       "      <td>C</td>\n",
       "      <td>0</td>\n",
       "    </tr>\n",
       "    <tr>\n",
       "      <th>4</th>\n",
       "      <td>2019-01-01</td>\n",
       "      <td>1</td>\n",
       "      <td>5</td>\n",
       "      <td>Large</td>\n",
       "      <td>A</td>\n",
       "      <td>36</td>\n",
       "    </tr>\n",
       "  </tbody>\n",
       "</table>\n",
       "</div>"
      ],
      "text/plain": [
       "        Date  StoreCode  ProductCode StoreGroup ProductGroup  SalesAmount\n",
       "0 2019-01-01          1            1      Large            A           18\n",
       "1 2019-01-01          1            2      Large            D           21\n",
       "2 2019-01-01          1            3      Large            A            3\n",
       "3 2019-01-01          1            4      Large            C            0\n",
       "4 2019-01-01          1            5      Large            A           36"
      ]
     },
     "execution_count": 17,
     "metadata": {},
     "output_type": "execute_result"
    }
   ],
   "source": [
    "size = len(sales)\n",
    "sales_amount = np.random.randint(0, 50, size=len(sales))\n",
    "sales[\"SalesAmount\"] = sales_amount\n",
    "sales.head()"
   ]
  },
  {
   "cell_type": "code",
   "execution_count": 19,
   "metadata": {},
   "outputs": [
    {
     "data": {
      "text/plain": [
       "<AxesSubplot:xlabel='Date'>"
      ]
     },
     "execution_count": 19,
     "metadata": {},
     "output_type": "execute_result"
    },
    {
     "data": {
      "image/png": "[encoded data removed]",
      "text/plain": [
       "<Figure size 1440x288 with 1 Axes>"
      ]
     },
     "metadata": {
      "needs_background": "light"
     },
     "output_type": "display_data"
    }
   ],
   "source": [
    "sales[\n",
    "     (sales.StoreCode==1) &\n",
    "     (sales.ProductCode==5) &\n",
    "     (sales.Date > \"2020-11-01\")\n",
    "     ].plot(x=\"Date\", y=\"SalesAmount\", kind=\"line\", figsize=(20,4))"
   ]
  },
  {
   "cell_type": "code",
   "execution_count": null,
   "metadata": {},
   "outputs": [],
   "source": []
  },
  {
   "cell_type": "code",
   "execution_count": null,
   "metadata": {},
   "outputs": [],
   "source": []
  },
  {
   "cell_type": "code",
   "execution_count": null,
   "metadata": {},
   "outputs": [],
   "source": []
  },
  {
   "cell_type": "markdown",
   "metadata": {
    "_uuid": "056004b6a1572c619f15654b71ff03dd10793644",
    "collapsed": true
   },
   "source": [
    "# End"
   ]
  }
 ],
 "metadata": {
  "kernelspec": {
   "display_name": "Python 3",
   "language": "python",
   "name": "python3"
  },
  "language_info": {
   "codemirror_mode": {
    "name": "ipython",
    "version": 3
   },
   "file_extension": ".py",
   "mimetype": "text/x-python",
   "name": "python",
   "nbconvert_exporter": "python",
   "pygments_lexer": "ipython3",
   "version": "3.8.8"
  }
 },
 "nbformat": 4,
 "nbformat_minor": 1
}
